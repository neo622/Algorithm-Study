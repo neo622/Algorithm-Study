{
 "cells": [
  {
   "cell_type": "markdown",
   "id": "38117d81",
   "metadata": {},
   "source": [
    "## itertools\n",
    "\n",
    "1. permutations\n",
    "- iterable 객체에서 r개의 데이터를 뽑아 일렬로 나열하는 모든 경우(순열)\n",
    "- 한 리스트에서 중복을 허용하고 모든 경우의 수를 구함\n",
    "\n",
    "2. combinations\n",
    "- 한 리스트에서 중복을 허용하지 않고 모든 경우의 수를 구함\n",
    "\n",
    "3. product\n",
    "- 데카르트 곱\n",
    "- 두개 이상의 리스트의 모든 조합을 구함\n",
    "- 이차원 리스트의 모든 조합을 구함"
   ]
  },
  {
   "cell_type": "code",
   "execution_count": 1,
   "id": "6baf603e",
   "metadata": {},
   "outputs": [],
   "source": [
    "from itertools import permutations\n",
    "from itertools import combinations\n",
    "from itertools import product"
   ]
  },
  {
   "cell_type": "code",
   "execution_count": 7,
   "id": "17fe072a",
   "metadata": {},
   "outputs": [
    {
     "name": "stdout",
     "output_type": "stream",
     "text": [
      "permut: [(1, 2), (1, 3), (1, 4), (1, 5), (2, 1), (2, 3), (2, 4), (2, 5), (3, 1), (3, 2), (3, 4), (3, 5), (4, 1), (4, 2), (4, 3), (4, 5), (5, 1), (5, 2), (5, 3), (5, 4)]\n"
     ]
    }
   ],
   "source": [
    "arr = [1,2,3,4,5]\n",
    "permut = list(permutations(arr, 2))\n",
    "print(f\"permut: {permut}\")"
   ]
  },
  {
   "cell_type": "code",
   "execution_count": 8,
   "id": "739f3d9c",
   "metadata": {},
   "outputs": [
    {
     "name": "stdout",
     "output_type": "stream",
     "text": [
      "comb: [(1, 2), (1, 3), (1, 4), (1, 5), (2, 3), (2, 4), (2, 5), (3, 4), (3, 5), (4, 5)]\n"
     ]
    }
   ],
   "source": [
    "comb = list(combinations(arr,2))\n",
    "print(f\"comb: {comb}\")"
   ]
  },
  {
   "cell_type": "code",
   "execution_count": 11,
   "id": "726f7968",
   "metadata": {},
   "outputs": [
    {
     "name": "stdout",
     "output_type": "stream",
     "text": [
      "prod: [(1, 'a'), (1, 'b'), (1, 'c'), (2, 'a'), (2, 'b'), (2, 'c'), (3, 'a'), (3, 'b'), (3, 'c')]\n"
     ]
    }
   ],
   "source": [
    "arr2 = [[1,2,3], [\"a\",\"b\",\"c\"]]\n",
    "prod = list(product(*arr2))\n",
    "print(f\"prod: {prod}\")"
   ]
  },
  {
   "cell_type": "markdown",
   "id": "78553cd8",
   "metadata": {},
   "source": [
    "## 내장 함수\n",
    "\n",
    "1. sum(), min(): 최대, 최소값 \n",
    "2. eval(): 문자열 형태의 수학 수식의 계산 결과 반환\n",
    "3. sorted(): iterable 객체를 특정 기준으로 정렬"
   ]
  },
  {
   "cell_type": "code",
   "execution_count": 12,
   "id": "dcd62575",
   "metadata": {},
   "outputs": [
    {
     "data": {
      "text/plain": [
       "16"
      ]
     },
     "execution_count": 12,
     "metadata": {},
     "output_type": "execute_result"
    }
   ],
   "source": [
    "# eval()\n",
    "result = eval(\"(3+5)*2\")\n",
    "result"
   ]
  },
  {
   "cell_type": "code",
   "execution_count": 30,
   "id": "ea2fc8ee",
   "metadata": {},
   "outputs": [
    {
     "name": "stdout",
     "output_type": "stream",
     "text": [
      "arr_sorted: [[1, 3, 3], [1, 2, 4], [5, 1, 3]]\n",
      "arr_sorted2: [[1, 2, 4], [1, 3, 3], [5, 1, 3]]\n"
     ]
    }
   ],
   "source": [
    "# sorted()\n",
    "arr = [[1,3,3], [1,2,4], [5,1,3]]\n",
    "arr_sorted = sorted(arr, key = lambda x:(x[0]))\n",
    "arr_sorted2 = sorted(arr, key = lambda x:(x[0],x[1])) # x[0]를 기준으로 정렬, 그 안에서 x[1]을 기준으로 역순 정렬\n",
    "print(f\"arr_sorted: {arr_sorted}\")\n",
    "print(f\"arr_sorted2: {arr_sorted2}\")"
   ]
  },
  {
   "cell_type": "code",
   "execution_count": 31,
   "id": "883890db",
   "metadata": {},
   "outputs": [],
   "source": [
    "from bisect import bisect_left, bisect_right\n",
    "a = [1, 2, 4, 4, 8]"
   ]
  },
  {
   "cell_type": "code",
   "execution_count": 38,
   "id": "e566b30a",
   "metadata": {},
   "outputs": [
    {
     "data": {
      "text/plain": [
       "0"
      ]
     },
     "execution_count": 38,
     "metadata": {},
     "output_type": "execute_result"
    }
   ],
   "source": [
    "bisect_left(a, 1)"
   ]
  },
  {
   "cell_type": "code",
   "execution_count": 37,
   "id": "3e1fd3b0",
   "metadata": {},
   "outputs": [
    {
     "data": {
      "text/plain": [
       "1"
      ]
     },
     "execution_count": 37,
     "metadata": {},
     "output_type": "execute_result"
    }
   ],
   "source": [
    "bisect_right(a, 1)"
   ]
  },
  {
   "cell_type": "code",
   "execution_count": null,
   "id": "104d6f74",
   "metadata": {},
   "outputs": [],
   "source": []
  }
 ],
 "metadata": {
  "kernelspec": {
   "display_name": "Python 3 (ipykernel)",
   "language": "python",
   "name": "python3"
  },
  "language_info": {
   "codemirror_mode": {
    "name": "ipython",
    "version": 3
   },
   "file_extension": ".py",
   "mimetype": "text/x-python",
   "name": "python",
   "nbconvert_exporter": "python",
   "pygments_lexer": "ipython3",
   "version": "3.9.7"
  }
 },
 "nbformat": 4,
 "nbformat_minor": 5
}

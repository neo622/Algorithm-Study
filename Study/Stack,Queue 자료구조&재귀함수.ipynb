{
 "cells": [
  {
   "cell_type": "markdown",
   "id": "e2facc7e",
   "metadata": {},
   "source": [
    "## 스택 자료구조\n",
    "\n",
    "- 먼저 들어온 원소가 나중에 나감\n",
    "- 리스트 자료구조(append, pop) 사용"
   ]
  },
  {
   "cell_type": "code",
   "execution_count": 18,
   "id": "19025b5e",
   "metadata": {},
   "outputs": [
    {
     "name": "stdout",
     "output_type": "stream",
     "text": [
      "[5, 3, 4]\n",
      "[5, 3]\n",
      "[5]\n",
      "5\n"
     ]
    }
   ],
   "source": [
    "stack = []\n",
    "stack.append(5) # 삽입\n",
    "stack.append(3) # 삽입\n",
    "stack.append(4) # 삽입\n",
    "print(stack)\n",
    "stack.pop()     # 삭제\n",
    "print(stack)\n",
    "stack.pop()     # 삭제\n",
    "print(stack)\n",
    "\n",
    "stack2 = [1,2,3,4,5]\n",
    "stack2[::-1]    #역순으로 출력\n",
    "\n",
    "num = stack2.pop() # 스택에서 뽑아낸 원소를 변수에 저장\n",
    "print(num)"
   ]
  },
  {
   "cell_type": "markdown",
   "id": "9274757a",
   "metadata": {},
   "source": [
    "## 큐 자료구조\n",
    "\n",
    "- 먼저 들어온 원소가 먼저 나감\n",
    "- import queue, queue.Queue() 라이브러리 사용 가능\n",
    "- from collection import deque 라이브러리 사용 가능 "
   ]
  },
  {
   "cell_type": "code",
   "execution_count": 20,
   "id": "db800a39",
   "metadata": {
    "scrolled": false
   },
   "outputs": [
    {
     "name": "stdout",
     "output_type": "stream",
     "text": [
      "deque([1, 2, 3, 4])\n",
      "deque([2, 3, 4])\n",
      "deque([4, 3, 2])\n",
      "4\n"
     ]
    }
   ],
   "source": [
    "from collections import deque\n",
    "queue = deque()\n",
    "\n",
    "queue.append(1)\n",
    "queue.append(2)\n",
    "queue.append(3)\n",
    "queue.append(4)\n",
    "print(queue)\n",
    "queue.popleft() # 삭제\n",
    "print(queue)\n",
    "queue.reverse()\n",
    "print(queue)    # 역순으로 바꾸기\n",
    "\n",
    "num = queue.popleft() # 큐에서 뽑아낸 원소를 변수에 저장\n",
    "print(num)"
   ]
  },
  {
   "cell_type": "markdown",
   "id": "4f80c5a7",
   "metadata": {},
   "source": [
    "## 재귀 함수\n",
    "\n",
    "- Recursive Function\n",
    "- 수학적 점화식을 구할 수 있을 때 직관적이고 간결하게 코드를 작성 가능 \n",
    "- 자기 자신을 다시 호출하는 함수 (모든 재귀함수는 반복문을 이용해 동일한 기능 구현 가능)\n",
    "- 반드시 종료 조건을 명시해야 함(그렇지 않으면 무한 호출)\n",
    "- Stack 구조를 사용해야 할 때, 구현상 스택 라이브러리 대신 재귀함수를 이용하는 경우가 많음\n"
   ]
  },
  {
   "cell_type": "code",
   "execution_count": 22,
   "id": "f8f095e4",
   "metadata": {},
   "outputs": [
    {
     "name": "stdout",
     "output_type": "stream",
     "text": [
      "1\n",
      "2\n",
      "3\n",
      "4\n",
      "i가 5까지 도달했으므로 재귀 종료\n"
     ]
    }
   ],
   "source": [
    "def func_a(i):\n",
    "    if i == 5:\n",
    "        return print(\"i가 5까지 도달했으므로 재귀 종료\")\n",
    "    print(i)\n",
    "    func_a(i+1)\n",
    "\n",
    "func_a(1)\n",
    "    "
   ]
  },
  {
   "cell_type": "code",
   "execution_count": 25,
   "id": "b7d7f053",
   "metadata": {},
   "outputs": [],
   "source": [
    "# 팩토리얼 함수 구현\n",
    "\n",
    "# 반복문 이용\n",
    "def factorial_iterative(n):\n",
    "    result = 1\n",
    "    # i 부터 n까지의 수를 차례로 곱하기\n",
    "    for i in range(1, n+1):\n",
    "        result *= i\n",
    "    return result\n",
    "\n",
    "# 재귀함수 이용\n",
    "def factorial_recursive(n):\n",
    "    if n <= 1:\n",
    "        return 1\n",
    "    # n! = n * (n-1)! 을 그대로 코드로 작성하기\n",
    "    return n * factorial_recursive(n - 1)"
   ]
  },
  {
   "cell_type": "code",
   "execution_count": 28,
   "id": "a1faea62",
   "metadata": {},
   "outputs": [
    {
     "data": {
      "text/plain": [
       "120"
      ]
     },
     "execution_count": 28,
     "metadata": {},
     "output_type": "execute_result"
    }
   ],
   "source": [
    "factorial_iterative(5)\n",
    "factorial_recursive(5)"
   ]
  },
  {
   "cell_type": "markdown",
   "id": "b09d1e6b",
   "metadata": {},
   "source": [
    "### 최대 공약수 계산(유클리드 호제법)\n",
    "\n",
    "- 두 자연수 a,b(a>b)에 대해 a를 b로 나눈 나머지를 r이라 한다.\n",
    "- 이 때, a와 b의 최대 공약수는 b와 r의 최대 공약수와 같다.\n",
    "- GCD(192, 162)\n",
    "    1. a:192 b:162 r:30\n",
    "    2. a:162 b:30  r:12\n",
    "    3. a:30  b:12  r:6\n",
    "    4. a:12  b:6"
   ]
  },
  {
   "cell_type": "code",
   "execution_count": 29,
   "id": "c1bcd98c",
   "metadata": {},
   "outputs": [
    {
     "name": "stdout",
     "output_type": "stream",
     "text": [
      "6\n"
     ]
    }
   ],
   "source": [
    "def gcd(a, b):\n",
    "    if a % b == 0:\n",
    "        return b\n",
    "    else:\n",
    "        return gcd(b, a % b)\n",
    "\n",
    "print(gcd(192,162))"
   ]
  },
  {
   "cell_type": "code",
   "execution_count": null,
   "id": "2a28909d",
   "metadata": {},
   "outputs": [],
   "source": []
  }
 ],
 "metadata": {
  "kernelspec": {
   "display_name": "Python 3 (ipykernel)",
   "language": "python",
   "name": "python3"
  },
  "language_info": {
   "codemirror_mode": {
    "name": "ipython",
    "version": 3
   },
   "file_extension": ".py",
   "mimetype": "text/x-python",
   "name": "python",
   "nbconvert_exporter": "python",
   "pygments_lexer": "ipython3",
   "version": "3.9.7"
  }
 },
 "nbformat": 4,
 "nbformat_minor": 5
}

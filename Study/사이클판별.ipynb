{
 "cells": [
  {
   "cell_type": "code",
   "execution_count": null,
   "id": "fd4f7d60",
   "metadata": {},
   "outputs": [],
   "source": [
    "# 특성 원소가 속한 집합을 찾기\n",
    "def find_parent(parent, x):\n",
    "    # 루트 노드를 찾을 때까지 재귀 호출 (부모의 루트 노드 탐색)\n",
    "    if parent[x] != x:\n",
    "        parent[x] = find_parent(parent, parent[x])  # 경로 압축\n",
    "    return parent[x]\n",
    "\n",
    "# 두 원소가 속한 집합을 합치기\n",
    "def union_parent(parent, a, b):\n",
    "    a = find_parent(parent, a)\n",
    "    b = find_parent(parent, b)\n",
    "    # 작은값이 부모루트가 되도록 지정\n",
    "    if a < b:\n",
    "        parent[b] = a\n",
    "    else:\n",
    "        parent[a] = b\n",
    "\n",
    "# 노드의 개수와 간선 (Union 연산)의 개수 입력 받기\n",
    "v, e = map(int, input().split())\n",
    "parent = [0] * (v+1) # 부모 테이블 초기화 하기\n",
    "\n",
    "# 부모 테이블 상태에서 부모를 자기 자신으로 초기화\n",
    "for i in range(1, v+1):\n",
    "    parent[i] = i\n",
    "\n",
    "Cycle = False\n",
    "\n",
    "for i in range(e):\n",
    "    a, b = map(int, input().split())\n",
    "    # 사이클이 발생한 경우 종료\n",
    "    if find_parent(parent,a) == find_parent(parent, b):\n",
    "        Cycle = True\n",
    "        break\n",
    "    else:\n",
    "        union_parent(parent,a,b)\n",
    "\n",
    "if Cycle:\n",
    "    print('사이클이 발생했습니다')\n",
    "else:\n",
    "    print('사이클이 발생하지 않았습니다.')"
   ]
  }
 ],
 "metadata": {
  "kernelspec": {
   "display_name": "Python 3 (ipykernel)",
   "language": "python",
   "name": "python3"
  },
  "language_info": {
   "codemirror_mode": {
    "name": "ipython",
    "version": 3
   },
   "file_extension": ".py",
   "mimetype": "text/x-python",
   "name": "python",
   "nbconvert_exporter": "python",
   "pygments_lexer": "ipython3",
   "version": "3.9.7"
  }
 },
 "nbformat": 4,
 "nbformat_minor": 5
}

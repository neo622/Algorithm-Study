{
 "cells": [
  {
   "cell_type": "markdown",
   "id": "f19be0d9",
   "metadata": {},
   "source": [
    "## DFS\n",
    "\n",
    "- 깊이 우선 탐색, 그래프에서 깊은 부분을 우선적으로 탐색하는 알고리즘\n",
    "- 스택 자료구조(혹은 재귀 함수)를 이용\n",
    "1. 탐색 시작 노드를 스택에 삽입하고 방문 처리\n",
    "2. 스택의 최상단 노드에 방문하지 않은 인접한 노드가 하나라도 있으면 그 노드를 스택에 넣고 방문 처리\n",
    "    2.1 방문하지 않은 인접 노드가 없으면 스택에서 최상단 노드를 꺼냄\n",
    "3. 모두 방문 처리할 때 까지 2번의 과정 수행\n",
    "\n",
    "<img src=\"DFS.png\" alt=\"Drawing\" style=\"width: 400px;\"/>"
   ]
  },
  {
   "cell_type": "code",
   "execution_count": 7,
   "id": "7d96b730",
   "metadata": {},
   "outputs": [
    {
     "name": "stdout",
     "output_type": "stream",
     "text": [
      "1 2 7 6 8 3 4 5 "
     ]
    }
   ],
   "source": [
    "# 각 노드가 연결된 정보를 2차원 리스트로 표현\n",
    "graph = [\n",
    "    [],        # Node 0\n",
    "    [2, 3, 8], # Node 1 -> 인접 노드: 2, 3, 8\n",
    "    [1, 7],    # Node 2 -> 인접 노드: 1, 7\n",
    "    [1, 4, 5], # Node 3 -> 인접 노드: 1, 4, 5\n",
    "    [3, 5],    # Node 4 -> 인접 노드: 3, 5\n",
    "    [3, 4],    # Node 5 -> 인접 노드: 3, 4\n",
    "    [7],       # Node 6 -> 인접 노드: 7\n",
    "    [2, 6, 8], # Node 7 -> 인접 노드: 2, 6, 8\n",
    "    [1, 7]     # Node 8 -> 인접 노드: 1, 7\n",
    "]\n",
    "\n",
    "# 각 노드가 방문된 정보를 1차원 리스트로 표현\n",
    "visited = [False] * 9\n",
    "\n",
    "# DFS 메서드 정의\n",
    "def dfs(graph, v, visited):\n",
    "    # 현재 노드를 방문 처리\n",
    "    visited[v] = True\n",
    "    print(v, end= ' ')\n",
    "    # 현재 노드와 연결된 다른 노드를 재귀적으로 방문\n",
    "    for i in graph[v]:\n",
    "        if not visited[i]:\n",
    "            dfs(graph, i, visited)\n",
    "            \n",
    "dfs(graph, 1, visited)"
   ]
  },
  {
   "cell_type": "code",
   "execution_count": null,
   "id": "7c5ac38a",
   "metadata": {},
   "outputs": [],
   "source": []
  }
 ],
 "metadata": {
  "kernelspec": {
   "display_name": "Python 3 (ipykernel)",
   "language": "python",
   "name": "python3"
  },
  "language_info": {
   "codemirror_mode": {
    "name": "ipython",
    "version": 3
   },
   "file_extension": ".py",
   "mimetype": "text/x-python",
   "name": "python",
   "nbconvert_exporter": "python",
   "pygments_lexer": "ipython3",
   "version": "3.9.7"
  }
 },
 "nbformat": 4,
 "nbformat_minor": 5
}

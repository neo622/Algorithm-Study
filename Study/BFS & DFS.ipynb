{
 "cells": [
  {
   "cell_type": "markdown",
   "id": "8c4136b2",
   "metadata": {},
   "source": [
    "## DFS\n",
    "\n",
    "- 깊이 우선 탐색, 그래프에서 깊은 부분을 우선적으로 탐색하는 알고리즘\n",
    "- 스택 자료구조(혹은 재귀 함수)를 이용\n",
    "1. 탐색 시작 노드를 스택에 삽입하고 방문 처리\n",
    "2. 스택의 최상단 노드에 방문하지 않은 인접한 노드가 하나라도 있으면 그 노드를 스택에 넣고 방문 처리\n",
    "    2.1 방문하지 않은 인접 노드가 없으면 스택에서 최상단 노드를 꺼냄\n",
    "3. 모두 방문 처리할 때 까지 2번의 과정 수행\n",
    "\n",
    "<img src=\"./pic/DFS.png\" alt=\"Drawing\" style=\"width: 400px;\"/>"
   ]
  },
  {
   "cell_type": "code",
   "execution_count": 7,
   "id": "c0c56d1e",
   "metadata": {
    "scrolled": true
   },
   "outputs": [
    {
     "name": "stdout",
     "output_type": "stream",
     "text": [
      "1 2 7 6 8 3 4 5 "
     ]
    }
   ],
   "source": [
    "# 각 노드가 연결된 정보를 2차원 리스트로 표현\n",
    "graph = [\n",
    "    [],        # Node 0\n",
    "    [2, 3, 8], # Node 1 -> 인접 노드: 2, 3, 8\n",
    "    [1, 7],    # Node 2 -> 인접 노드: 1, 7\n",
    "    [1, 4, 5], # Node 3 -> 인접 노드: 1, 4, 5\n",
    "    [3, 5],    # Node 4 -> 인접 노드: 3, 5\n",
    "    [3, 4],    # Node 5 -> 인접 노드: 3, 4\n",
    "    [7],       # Node 6 -> 인접 노드: 7\n",
    "    [2, 6, 8], # Node 7 -> 인접 노드: 2, 6, 8\n",
    "    [1, 7]     # Node 8 -> 인접 노드: 1, 7\n",
    "]\n",
    "\n",
    "# 각 노드가 방문된 정보를 1차원 리스트로 표현\n",
    "visited = [False] * 9\n",
    "\n",
    "# DFS 메서드 정의\n",
    "def dfs(graph, v, visited):\n",
    "    # 현재 노드를 방문 처리\n",
    "    visited[v] = True\n",
    "    print(v, end= ' ')\n",
    "    # 현재 노드와 연결된 다른 노드를 재귀적으로 방문\n",
    "    for i in graph[v]:\n",
    "        if not visited[i]:\n",
    "            dfs(graph, i, visited)\n",
    "            \n",
    "dfs(graph, 1, visited)"
   ]
  },
  {
   "cell_type": "markdown",
   "id": "f649d1f6",
   "metadata": {},
   "source": [
    "## BFS\n",
    "\n",
    "- 너비 우선 탐색, 그래프에서 가까운 노드부터 우선적으로 탐색하는 알고리즘\n",
    "- 큐 자료구조를 이용\n",
    "\n",
    "1. 탐색 시작 노드를 큐에 삽입하고 방문 처리\n",
    "2. 큐에서 노드를 꺼낸 뒤에 해당 노드의 인접 노드 중에서 **방문하지 않은 노드를 모두 큐에 삽입**하고 방문 처리\n",
    "3. 더 이상 2번의 과정을 수행할 수 없을 때 까지 반복\n",
    "(인접한 노드를 한번에 큐에 넣는 것이 특징)\n",
    "\n",
    "- 각 간선에 대한 비용이 동일한 상황에서 최단 경로를 찾는 문제에 활용할 수 있음\n",
    "\n",
    "<img src=\"./pic/BFS.png\" alt=\"Drawing\" style=\"width: 400px;\"/>"
   ]
  },
  {
   "cell_type": "code",
   "execution_count": 11,
   "id": "8155cc46",
   "metadata": {},
   "outputs": [
    {
     "name": "stdout",
     "output_type": "stream",
     "text": [
      "1 2 3 8 7 4 5 6 "
     ]
    }
   ],
   "source": [
    "from collections import deque\n",
    "\n",
    "# 각 노드가 연결된 정보를 2차원 리스트로 표현\n",
    "graph = [\n",
    "    [],        # Node 0\n",
    "    [2, 3, 8], # Node 1 -> 인접 노드: 2, 3, 8\n",
    "    [1, 7],    # Node 2 -> 인접 노드: 1, 7\n",
    "    [1, 4, 5], # Node 3 -> 인접 노드: 1, 4, 5\n",
    "    [3, 5],    # Node 4 -> 인접 노드: 3, 5\n",
    "    [3, 4],    # Node 5 -> 인접 노드: 3, 4\n",
    "    [7],       # Node 6 -> 인접 노드: 7\n",
    "    [2, 6, 8], # Node 7 -> 인접 노드: 2, 6, 8\n",
    "    [1, 7]     # Node 8 -> 인접 노드: 1, 7\n",
    "]\n",
    "\n",
    "# 각 노드가 방문된 정보를 1차원 리스트로 표현\n",
    "visited = [False] * 9\n",
    "\n",
    "def BFS(graph, start, visited):\n",
    "    # queue 라이브러리를 사용하여 첫번째 노드를 넣음\n",
    "    queue = deque([start])\n",
    "    # 현재 노드 방문 처리\n",
    "    visited[start] = True\n",
    "    # queue가 빌 때 까지 반복\n",
    "    while queue:\n",
    "        # queue에서 하나의 원소를 뽑아 출력\n",
    "        v = queue.popleft()\n",
    "        print(v, end = ' ')\n",
    "        # 아직 방문하지 않은 인접한 원소들을 queue에 삽입\n",
    "        for i in graph[v]:\n",
    "            if not visited[i]:\n",
    "                queue.append(i)\n",
    "                visited[i] = True\n",
    "\n",
    "BFS(graph, 1, visited)"
   ]
  },
  {
   "cell_type": "markdown",
   "id": "c90a5d56",
   "metadata": {},
   "source": [
    "### 문제 풀이 예제\n",
    "\n",
    "<img src=\"./pic/DFSBFS예제.png\" alt=\"Drawing\" style=\"width: 400px;\"/>"
   ]
  },
  {
   "cell_type": "markdown",
   "id": "dd8babcb",
   "metadata": {},
   "source": [
    "- 연결 요소 찾기 문제(연결 요소가 몇개인지 찾는 방법? -> BFS 또는 DFS)\n",
    "- 모든 지점에서 DFS 또는 BFS를 수행하여 이동 가능한 모든 경로에 대해 방문처리 수행\n",
    "- 방문 처리가 이루어 지는 개수를 카운트\n",
    "\n",
    "1. 특정 지점의 주변 상,하,좌,우를 살펴본 뒤에 주변 지점 중에서 값이 '0' 이면서 아직 방문하지 않은 지점이 있다면 해당 지점 방문\n",
    "2. 방문한 지점에서 다시 상,하,좌,우를 살피며 방문을 진행하는 과정 반복\n",
    "3. 모든 노드에 대해 1,2 과정을 반복하여 **방문하지 않은 지점**의 수를 카운트"
   ]
  },
  {
   "cell_type": "code",
   "execution_count": 13,
   "id": "462958c8",
   "metadata": {},
   "outputs": [],
   "source": [
    "n = 4\n",
    "m = 5\n",
    "graph = [[0,0,1,1,0],\n",
    "         [0,0,0,1,1],\n",
    "         [1,1,1,1,1],\n",
    "         [0,0,0,0,0]]\n",
    "\n",
    "# DFS로 특정 노드를 방문하고 연결된 모든 노드들도 방문하는 함수\n",
    "def dfs(x, y): # x->vertical, y -> horizontal\n",
    "    # 주어진 범위를 벗어나는 경우에는 즉시 종료\n",
    "    if x <= -1 or x >= n or y <= -1 or y >= m:\n",
    "        return False\n",
    "    # 해당 노드가 0이면 1로 방문 처리하고 인접 노드에 대해 재귀적으로 dfs호출 \n",
    "    if graph[x][y] == 0:\n",
    "        graph[x][y] = 1\n",
    "        dfs(x - 1, y) # 상\n",
    "        dfs(x + 1, y) # 하\n",
    "        dfs(x, y - 1) # 좌\n",
    "        dfs(x, y + 1) # 우\n",
    "        return True\n",
    "    # 해당 노드가 1이면 False\n",
    "    return False\n",
    "\n",
    "\n",
    "def solution(n, m):\n",
    "    result = 0\n",
    "    # 모든 노드에 대해 dfs함수 수행 후 결과가 True면 result 1 증가\n",
    "    for i in range(n):\n",
    "        for j in range(m):\n",
    "            if dfs(i, j) == True:\n",
    "                result += 1\n",
    "    return result\n",
    "    # 정답 출력"
   ]
  },
  {
   "cell_type": "code",
   "execution_count": null,
   "id": "4acbd308",
   "metadata": {},
   "outputs": [],
   "source": []
  }
 ],
 "metadata": {
  "kernelspec": {
   "display_name": "Python 3 (ipykernel)",
   "language": "python",
   "name": "python3"
  },
  "language_info": {
   "codemirror_mode": {
    "name": "ipython",
    "version": 3
   },
   "file_extension": ".py",
   "mimetype": "text/x-python",
   "name": "python",
   "nbconvert_exporter": "python",
   "pygments_lexer": "ipython3",
   "version": "3.9.7"
  }
 },
 "nbformat": 4,
 "nbformat_minor": 5
}

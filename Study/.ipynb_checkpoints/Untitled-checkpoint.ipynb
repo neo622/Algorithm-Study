{
 "cells": [
  {
   "cell_type": "code",
   "execution_count": 3,
   "id": "a16bcbc9",
   "metadata": {},
   "outputs": [],
   "source": [
    "# K번째 약수\n",
    "# N의 약수 중 K번 째로 작은 수\n",
    "\n",
    "def solution(N, K):\n",
    "    arr = []\n",
    "    for i in range(1, N+1):\n",
    "        if N % i == 0:\n",
    "            arr.append(i)\n",
    "    arr.sort()\n",
    "    return arr[K-1]\n",
    "    "
   ]
  },
  {
   "cell_type": "code",
   "execution_count": 1,
   "id": "b5a40729",
   "metadata": {},
   "outputs": [],
   "source": [
    "a = [1,3,4,2]\n",
    "a.sort()"
   ]
  },
  {
   "cell_type": "code",
   "execution_count": 2,
   "id": "09d9feb2",
   "metadata": {},
   "outputs": [
    {
     "data": {
      "text/plain": [
       "[1, 2, 3, 4]"
      ]
     },
     "execution_count": 2,
     "metadata": {},
     "output_type": "execute_result"
    }
   ],
   "source": [
    "a"
   ]
  },
  {
   "cell_type": "code",
   "execution_count": null,
   "id": "aec1935e",
   "metadata": {},
   "outputs": [],
   "source": []
  }
 ],
 "metadata": {
  "kernelspec": {
   "display_name": "Python 3 (ipykernel)",
   "language": "python",
   "name": "python3"
  },
  "language_info": {
   "codemirror_mode": {
    "name": "ipython",
    "version": 3
   },
   "file_extension": ".py",
   "mimetype": "text/x-python",
   "name": "python",
   "nbconvert_exporter": "python",
   "pygments_lexer": "ipython3",
   "version": "3.9.7"
  }
 },
 "nbformat": 4,
 "nbformat_minor": 5
}

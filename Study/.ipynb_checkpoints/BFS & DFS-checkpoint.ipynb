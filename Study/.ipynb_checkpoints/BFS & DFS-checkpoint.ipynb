{
 "cells": [
  {
   "cell_type": "markdown",
   "id": "7d702b76",
   "metadata": {},
   "source": [
    "## DFS\n",
    "\n",
    "- 깊이 우선 탐색, 그래프에서 깊은 부분을 우선적으로 탐색하는 알고리즘\n",
    "- 스택 자료구조(혹은 재귀 함수)를 이용\n",
    "1. 탐색 시작 노드를 스택에 삽입하고 방문 처리\n",
    "2. 스택의 최상단 노드에 방문하지 않은 인접한 노드가 하나라도 있으면 그 노드를 스택에 넣고 방문 처리\n",
    "    2.1 방문하지 않은 인접 노드가 없으면 스택에서 최상단 노드를 꺼냄\n",
    "3. 모두 방문 처리할 때 까지 2번의 과정 수행\n",
    "\n",
    "<img src=\"DFS.png\" alt=\"Drawing\" style=\"width: 400px;\"/>"
   ]
  },
  {
   "cell_type": "code",
   "execution_count": 7,
   "id": "62388062",
   "metadata": {
    "scrolled": true
   },
   "outputs": [
    {
     "name": "stdout",
     "output_type": "stream",
     "text": [
      "1 2 7 6 8 3 4 5 "
     ]
    }
   ],
   "source": [
    "# 각 노드가 연결된 정보를 2차원 리스트로 표현\n",
    "graph = [\n",
    "    [],        # Node 0\n",
    "    [2, 3, 8], # Node 1 -> 인접 노드: 2, 3, 8\n",
    "    [1, 7],    # Node 2 -> 인접 노드: 1, 7\n",
    "    [1, 4, 5], # Node 3 -> 인접 노드: 1, 4, 5\n",
    "    [3, 5],    # Node 4 -> 인접 노드: 3, 5\n",
    "    [3, 4],    # Node 5 -> 인접 노드: 3, 4\n",
    "    [7],       # Node 6 -> 인접 노드: 7\n",
    "    [2, 6, 8], # Node 7 -> 인접 노드: 2, 6, 8\n",
    "    [1, 7]     # Node 8 -> 인접 노드: 1, 7\n",
    "]\n",
    "\n",
    "# 각 노드가 방문된 정보를 1차원 리스트로 표현\n",
    "visited = [False] * 9\n",
    "\n",
    "# DFS 메서드 정의\n",
    "def dfs(graph, v, visited):\n",
    "    # 현재 노드를 방문 처리\n",
    "    visited[v] = True\n",
    "    print(v, end= ' ')\n",
    "    # 현재 노드와 연결된 다른 노드를 재귀적으로 방문\n",
    "    for i in graph[v]:\n",
    "        if not visited[i]:\n",
    "            dfs(graph, i, visited)\n",
    "            \n",
    "dfs(graph, 1, visited)"
   ]
  },
  {
   "cell_type": "markdown",
   "id": "3e4d72c8",
   "metadata": {},
   "source": [
    "## BFS\n",
    "\n",
    "- 너비 우선 탐색, 그래프에서 가까운 노드부터 우선적으로 탐색하는 알고리즘\n",
    "- 큐 자료구조를 이용\n",
    "\n",
    "1. 탐색 시작 노드를 큐에 삽입하고 방문 처리\n",
    "2. 큐에서 노드를 꺼낸 뒤에 해당 노드의 인접 노드 중에서 **방문하지 않은 노드를 모두 큐에 삽입**하고 방문 처리\n",
    "3. 더 이상 2번의 과정을 수행할 수 없을 때 까지 반복\n",
    "(인접한 노드를 한번에 큐에 넣는 것이 특징)\n",
    "\n",
    "- 각 간선에 대한 비용이 동일한 상황에서 최단 경로를 찾는 문제에 활용할 수 있음\n",
    "\n",
    "<img src=\"BFS.png\" alt=\"Drawing\" style=\"width: 400px;\"/>"
   ]
  },
  {
   "cell_type": "code",
   "execution_count": 11,
   "id": "4f785e44",
   "metadata": {},
   "outputs": [
    {
     "name": "stdout",
     "output_type": "stream",
     "text": [
      "1 2 3 8 7 4 5 6 "
     ]
    }
   ],
   "source": [
    "from collections import deque\n",
    "\n",
    "# 각 노드가 연결된 정보를 2차원 리스트로 표현\n",
    "graph = [\n",
    "    [],        # Node 0\n",
    "    [2, 3, 8], # Node 1 -> 인접 노드: 2, 3, 8\n",
    "    [1, 7],    # Node 2 -> 인접 노드: 1, 7\n",
    "    [1, 4, 5], # Node 3 -> 인접 노드: 1, 4, 5\n",
    "    [3, 5],    # Node 4 -> 인접 노드: 3, 5\n",
    "    [3, 4],    # Node 5 -> 인접 노드: 3, 4\n",
    "    [7],       # Node 6 -> 인접 노드: 7\n",
    "    [2, 6, 8], # Node 7 -> 인접 노드: 2, 6, 8\n",
    "    [1, 7]     # Node 8 -> 인접 노드: 1, 7\n",
    "]\n",
    "\n",
    "# 각 노드가 방문된 정보를 1차원 리스트로 표현\n",
    "visited = [False] * 9\n",
    "\n",
    "def BFS(graph, start, visited):\n",
    "    # queue 라이브러리를 사용하여 첫번째 노드를 넣음\n",
    "    queue = deque([start])\n",
    "    # 현재 노드 방문 처리\n",
    "    visited[start] = True\n",
    "    # queue가 빌 때 까지 반복\n",
    "    while queue:\n",
    "        # queue에서 하나의 원소를 뽑아 출력\n",
    "        v = queue.popleft()\n",
    "        print(v, end = ' ')\n",
    "        # 아직 방문하지 않은 인접한 원소들을 queue에 삽입\n",
    "        for i in graph[v]:\n",
    "            if not visited[i]:\n",
    "                queue.append(i)\n",
    "                visited[i] = True\n",
    "\n",
    "BFS(graph, 1, visited)"
   ]
  },
  {
   "cell_type": "code",
   "execution_count": null,
   "id": "a8f33eb2",
   "metadata": {},
   "outputs": [],
   "source": []
  }
 ],
 "metadata": {
  "kernelspec": {
   "display_name": "Python 3 (ipykernel)",
   "language": "python",
   "name": "python3"
  },
  "language_info": {
   "codemirror_mode": {
    "name": "ipython",
    "version": 3
   },
   "file_extension": ".py",
   "mimetype": "text/x-python",
   "name": "python",
   "nbconvert_exporter": "python",
   "pygments_lexer": "ipython3",
   "version": "3.9.7"
  }
 },
 "nbformat": 4,
 "nbformat_minor": 5
}

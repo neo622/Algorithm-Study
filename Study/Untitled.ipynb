{
 "cells": [
  {
   "cell_type": "code",
   "execution_count": 3,
   "id": "37d53add",
   "metadata": {},
   "outputs": [],
   "source": [
    "# K번째 약수\n",
    "# N의 약수 중 K번 째로 작은 수\n",
    "\n",
    "def solution(N, K):\n",
    "    arr = []\n",
    "    for i in range(1, N+1):\n",
    "        if N % i == 0:\n",
    "            arr.append(i)\n",
    "    arr.sort()\n",
    "    return arr[K-1]\n",
    "    "
   ]
  },
  {
   "cell_type": "code",
   "execution_count": 6,
   "id": "8055e658",
   "metadata": {},
   "outputs": [],
   "source": [
    "def solution1(N, K):\n",
    "    cnt = 0\n",
    "    for i in range(1, N+1):\n",
    "        if N % i == 0:\n",
    "            cnt += 1\n",
    "        if cnt == K:\n",
    "            return i\n",
    "    else:\n",
    "        return -1"
   ]
  },
  {
   "cell_type": "code",
   "execution_count": 8,
   "id": "01eb7d04",
   "metadata": {},
   "outputs": [
    {
     "data": {
      "text/plain": [
       "-1"
      ]
     },
     "execution_count": 8,
     "metadata": {},
     "output_type": "execute_result"
    }
   ],
   "source": [
    "solution1(6, 5)"
   ]
  },
  {
   "cell_type": "code",
   "execution_count": 11,
   "id": "05256a74",
   "metadata": {},
   "outputs": [],
   "source": [
    "# K번쨰 수\n",
    "def solution2(arr, s, e, k):\n",
    "    cnt = 0\n",
    "    arr2 = arr[s-1:e]\n",
    "    arr2.sort()\n",
    "    for i in arr2:\n",
    "        cnt += 1\n",
    "        if cnt == k:\n",
    "            break\n",
    "            \n",
    "    return i"
   ]
  },
  {
   "cell_type": "code",
   "execution_count": 12,
   "id": "eb9fd2ef",
   "metadata": {},
   "outputs": [],
   "source": [
    "arr = [5, 2, 7, 3, 8, 9]\n",
    "s = 2\n",
    "e = 5\n",
    "k = 3"
   ]
  },
  {
   "cell_type": "code",
   "execution_count": 13,
   "id": "246110b9",
   "metadata": {},
   "outputs": [
    {
     "data": {
      "text/plain": [
       "7"
      ]
     },
     "execution_count": 13,
     "metadata": {},
     "output_type": "execute_result"
    }
   ],
   "source": [
    "solution2(arr, s, e, k)"
   ]
  },
  {
   "cell_type": "code",
   "execution_count": 14,
   "id": "f1ec178f",
   "metadata": {},
   "outputs": [],
   "source": [
    "# K번째 큰 수\n",
    "def solution3(arr, K):\n",
    "    case = set()\n",
    "    for i in range(len(arr)):\n",
    "        for j in range(i+1, len(arr)):\n",
    "            for k in range(j+1, len(arr)):\n",
    "                case.add(arr[i]+arr[j]+arr[k])\n",
    "    case = list(case)\n",
    "    case.sort(reverse = True)\n",
    "    return(case[K-1])\n",
    "                "
   ]
  },
  {
   "cell_type": "code",
   "execution_count": 17,
   "id": "ddb22a7a",
   "metadata": {},
   "outputs": [
    {
     "name": "stdout",
     "output_type": "stream",
     "text": [
      "5\n",
      "3\n",
      "2\n"
     ]
    }
   ],
   "source": [
    "# 최솟값 구하기\n",
    "arr = [5, 3, 7, 9, 2, 5, 2, 6]\n",
    "arrMin = 100001\n",
    "for i in range(len(arr)):\n",
    "    if arr[i] < arrMin:\n",
    "        arrMin = arr[i]\n",
    "        print(arrMin)"
   ]
  },
  {
   "cell_type": "code",
   "execution_count": 25,
   "id": "12de88dc",
   "metadata": {},
   "outputs": [],
   "source": [
    "# 대표값\n",
    "# 학생들의 수학 성적이 주어진 arr이 있을 때, 평균을 구하고 평균과 가장 가까운 학생은 몇번째 학생인지 출력\n",
    "# 답이 2개일 경우 점수가 더 높은 학생 출력\n",
    "\n",
    "def solution4(arr):\n",
    "    mini = 100001\n",
    "    avg = round(sum(arr)/len(arr))\n",
    "    stu, score = 0, 0\n",
    "    for idx, x in enumerate(arr):\n",
    "        tmp = abs(avg - x)\n",
    "        if tmp < mini:\n",
    "            mini = tmp\n",
    "            stu = idx\n",
    "            score = x\n",
    "        if tmp == mini:\n",
    "            if x > score:\n",
    "                score = x\n",
    "                stu = idx\n",
    "    return stu+1, score, avg\n",
    "            \n",
    "            \n",
    "        \n",
    "        "
   ]
  },
  {
   "cell_type": "code",
   "execution_count": 26,
   "id": "a7f0724b",
   "metadata": {},
   "outputs": [
    {
     "data": {
      "text/plain": [
       "(9, 75, 74)"
      ]
     },
     "execution_count": 26,
     "metadata": {},
     "output_type": "execute_result"
    }
   ],
   "source": [
    "solution4([65,73,66,87,92,67,55,79,75,80])"
   ]
  },
  {
   "cell_type": "code",
   "execution_count": 36,
   "id": "4b53a5fa",
   "metadata": {},
   "outputs": [],
   "source": [
    "def solution5(n,m):\n",
    "    ans_list = []\n",
    "    cnt = [0 for _ in range(n+m+2)]\n",
    "    for i in range(1, n+1):\n",
    "        for j in range(1, m+1):\n",
    "            cnt[i+j] += 1\n",
    "    a = max(cnt)\n",
    "    for idx, x in enumerate(cnt):\n",
    "        if x == a:\n",
    "            ans_list.append(idx)\n",
    "    return ans_list\n",
    "            \n",
    "            "
   ]
  },
  {
   "cell_type": "code",
   "execution_count": 37,
   "id": "722d2600",
   "metadata": {},
   "outputs": [
    {
     "data": {
      "text/plain": [
       "[5, 6, 7]"
      ]
     },
     "execution_count": 37,
     "metadata": {},
     "output_type": "execute_result"
    }
   ],
   "source": [
    "solution5(4, 6)"
   ]
  },
  {
   "cell_type": "code",
   "execution_count": null,
   "id": "7089b88f",
   "metadata": {},
   "outputs": [],
   "source": []
  }
 ],
 "metadata": {
  "kernelspec": {
   "display_name": "Python 3 (ipykernel)",
   "language": "python",
   "name": "python3"
  },
  "language_info": {
   "codemirror_mode": {
    "name": "ipython",
    "version": 3
   },
   "file_extension": ".py",
   "mimetype": "text/x-python",
   "name": "python",
   "nbconvert_exporter": "python",
   "pygments_lexer": "ipython3",
   "version": "3.9.7"
  }
 },
 "nbformat": 4,
 "nbformat_minor": 5
}
